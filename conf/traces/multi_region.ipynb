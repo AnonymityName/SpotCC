{
 "cells": [
  {
   "cell_type": "code",
   "execution_count": 1,
   "id": "b90fcf97",
   "metadata": {},
   "outputs": [],
   "source": [
    "import json\n",
    "import numpy as np\n",
    "import matplotlib.pyplot as plt\n",
    "import pandas as pd"
   ]
  },
  {
   "cell_type": "code",
   "execution_count": 2,
   "id": "de57a265",
   "metadata": {},
   "outputs": [],
   "source": [
    "def plot(json_data, lower_bound=0, limit=None):\n",
    "    x = []\n",
    "    y = []\n",
    "    if limit == None:\n",
    "        limit = len(json_data['data'])\n",
    "    for i in range(lower_bound, len(json_data['data'][:limit])):\n",
    "        x.append(i)\n",
    "        y.append(json_data['data'][i])\n",
    "    plt.figure(figsize=(18,4))\n",
    "    plt.plot(x,y)\n",
    "    plt.show()"
   ]
  },
  {
   "cell_type": "code",
   "execution_count": 3,
   "id": "23ab98f3",
   "metadata": {},
   "outputs": [],
   "source": [
    "def analyze_preemption_probability(trace_data, window_size=4):\n",
    "    \"\"\"\"\n",
    "\n",
    "    Args:\n",
    "        trace_data (dict):\n",
    "                        format:\n",
    "                           {\n",
    "                               'region1': {\n",
    "                                   'zoneA': [10, 9, 8, 7, 6, 5, 4, 3, 2, 1],\n",
    "                                   'zoneB': [10, 10, 10, 9, 8, 7, 6, 5, 4, 3]\n",
    "                               },\n",
    "                               'region2': {\n",
    "                                   'zoneC': [5, 4, 3, 2, 1, 1, 1, 1, 1, 1],\n",
    "                                   'zoneD': [8, 8, 8, 8, 7, 6, 5, 4, 3, 2]\n",
    "                               },\n",
    "                               'region3': {\n",
    "                                   'zoneE': [12, 11, 10, 9, 8, 7, 6, 5, 4, 3],\n",
    "                                   'zoneF': [7, 7, 6, 5, 4, 3, 2, 1, 1, 1]\n",
    "                               }\n",
    "                           }\n",
    "        window_size (int): size of the time window, default value is 4。\n",
    "    \"\"\"\n",
    "\n",
    "    if not trace_data or not isinstance(trace_data, dict):\n",
    "        print(\"Error: trace_data must not be an empty dictionary\")\n",
    "        return 0.0\n",
    "\n",
    "    all_window_starts = set()\n",
    "    region_preemption_flags = {}\n",
    "\n",
    "    for region_name in trace_data.keys():\n",
    "        region_preemption_flags[region_name] = {}\n",
    "\n",
    "    for region_name, zones in trace_data.items():\n",
    "        for zone_name, nodes_data in zones.items():\n",
    "            if not nodes_data or len(nodes_data) < window_size:\n",
    "                print(f\"Warning: {region_name}/{zone_name} is not sufficient for constructing a complete window\")\n",
    "                continue\n",
    "\n",
    "            num_timestamps = len(nodes_data)\n",
    "            for i in range(num_timestamps - window_size + 1):\n",
    "                all_window_starts.add(i)\n",
    "\n",
    "                window_data = nodes_data[i : i + window_size]\n",
    "                preemption_in_window = False\n",
    "\n",
    "                for j in range(1, len(window_data)):\n",
    "                    if window_data[j] < window_data[j-1]:\n",
    "                        preemption_in_window = True\n",
    "                        break\n",
    "\n",
    "                if i not in region_preemption_flags[region_name]:\n",
    "                    region_preemption_flags[region_name][i] = False\n",
    "                if preemption_in_window:\n",
    "                    region_preemption_flags[region_name][i] = True\n",
    "\n",
    "    if not all_window_starts:\n",
    "        print(\"not enough valid time windows for analyzing\")\n",
    "        return 0.0\n",
    "\n",
    "    total_preemption_windows = 0\n",
    "    simultaneous_preemption_count = 0\n",
    "\n",
    "    for window_start in sorted(list(all_window_starts)):\n",
    "        active_preemption_regions = 0\n",
    "        \n",
    "        for region_name in trace_data.keys():\n",
    "            if region_preemption_flags[region_name].get(window_start, False):\n",
    "                active_preemption_regions += 1\n",
    "        \n",
    "        if active_preemption_regions >= 1:\n",
    "            total_preemption_windows += 1\n",
    "\n",
    "        if active_preemption_regions >= 2:\n",
    "            simultaneous_preemption_count += 1\n",
    "\n",
    "    if total_preemption_windows == 0:\n",
    "        print(\"In all valid windows, not find any preemptions\")\n",
    "        return 0.0\n",
    "    \n",
    "    probability = simultaneous_preemption_count / total_preemption_windows\n",
    "    return probability"
   ]
  },
  {
   "cell_type": "code",
   "execution_count": 4,
   "id": "af0909e6",
   "metadata": {},
   "outputs": [],
   "source": [
    "def prepare_trace_data(trace_list):\n",
    "    trace_data = {}\n",
    "    for region_name, zone_dict in trace_list.items():\n",
    "        trace_data[region_name] = {}\n",
    "        for zone_name, zone_path in zone_dict.items():\n",
    "            with open(zone_path) as f:\n",
    "                f_content = f.read()\n",
    "            zone_json = json.loads(f_content)\n",
    "            trace_data[region_name][zone_name] = zone_json['data']\n",
    "    \n",
    "    return trace_data"
   ]
  },
  {
   "cell_type": "code",
   "execution_count": 5,
   "id": "5cd4ca0f",
   "metadata": {},
   "outputs": [],
   "source": [
    "trace_list_1 = {\n",
    "    \"region1\": {\n",
    "        \"zone1\": \"/root/ElasticCDC/conf/traces/preemption/4-node/aws-08-03-2023/us-east-1f_v100_1.json\"\n",
    "        },\n",
    "    \"region2\": {\n",
    "        \"zone1\": \"/root/ElasticCDC/conf/traces/preemption/4-node/aws-08-03-2023/us-east-2a_v100_1.json\"\n",
    "        },\n",
    "    \"region3\": {\n",
    "        \"zone1\": \"/root/ElasticCDC/conf/traces/preemption/4-node/aws-08-03-2023/us-west-2c_v100_1.json\"\n",
    "    }\n",
    "}\n",
    "\n",
    "trace_data_1 = prepare_trace_data(trace_list_1)"
   ]
  },
  {
   "cell_type": "code",
   "execution_count": 6,
   "id": "5225111b",
   "metadata": {},
   "outputs": [
    {
     "data": {
      "text/plain": [
       "0.375170905113481"
      ]
     },
     "execution_count": 6,
     "metadata": {},
     "output_type": "execute_result"
    }
   ],
   "source": [
    "analyze_preemption_probability(trace_data_1, window_size=36)"
   ]
  },
  {
   "cell_type": "code",
   "execution_count": 7,
   "id": "5ebeb365",
   "metadata": {},
   "outputs": [],
   "source": [
    "trace_list_2 = {\n",
    "    \"region1\": {\n",
    "        \"zone1\": \"/root/ElasticCDC/conf/traces/availability/1-node/aws-02-15-2023/us-east-1a_v100_1.json\",\n",
    "        \"zone2\": \"/root/ElasticCDC/conf/traces/availability/1-node/aws-02-15-2023/us-east-1c_v100_1.json\",\n",
    "        \"zone3\": \"/root/ElasticCDC/conf/traces/availability/1-node/aws-02-15-2023/us-east-1d_v100_1.json\",\n",
    "        \"zone4\": \"/root/ElasticCDC/conf/traces/availability/1-node/aws-02-15-2023/us-east-1f_v100_1.json\"\n",
    "        },\n",
    "    \"region2\": {\n",
    "        \"zone1\": \"/root/ElasticCDC/conf/traces/availability/1-node/aws-02-15-2023/us-east-2a_v100_1.json\",\n",
    "        \"zone2\": \"/root/ElasticCDC/conf/traces/availability/1-node/aws-02-15-2023/us-east-2b_v100_1.json\"\n",
    "        },\n",
    "    \"region3\": {\n",
    "        \"zone1\": \"/root/ElasticCDC/conf/traces/availability/1-node/aws-02-15-2023/us-west-2a_v100_1.json\",\n",
    "        \"zone2\": \"/root/ElasticCDC/conf/traces/availability/1-node/aws-02-15-2023/us-west-2b_v100_1.json\",\n",
    "        \"zone3\": \"/root/ElasticCDC/conf/traces/availability/1-node/aws-02-15-2023/us-west-2c_v100_1.json\"\n",
    "    }\n",
    "}\n",
    "\n",
    "trace_data_2 = prepare_trace_data(trace_list_2)"
   ]
  },
  {
   "cell_type": "code",
   "execution_count": 9,
   "id": "447aff1e",
   "metadata": {},
   "outputs": [
    {
     "data": {
      "text/plain": [
       "0.6002299331103679"
      ]
     },
     "execution_count": 9,
     "metadata": {},
     "output_type": "execute_result"
    }
   ],
   "source": [
    "analyze_preemption_probability(trace_data_2, window_size=54)"
   ]
  },
  {
   "cell_type": "code",
   "execution_count": 5,
   "id": "7a4530fd",
   "metadata": {},
   "outputs": [],
   "source": [
    "trace_list_3 = {\n",
    "    \"region1\": {\n",
    "        \"zone1\": \"/root/ElasticCDC/conf/traces/availability/16-node/aws-08-27-2023/us-east-2b_v100_1.json\"\n",
    "    },\n",
    "    \"region2\": {\n",
    "        \"zone1\": \"/root/ElasticCDC/conf/traces/availability/16-node/aws-08-27-2023/us-west-2a_v100_1.json\"\n",
    "    },\n",
    "    \"region3\": {\n",
    "        \"zone1\": \"/root/ElasticCDC/conf/traces/availability/16-node/aws-08-27-2023/us-west-2c_v100_1.json\"\n",
    "    }\n",
    "}\n",
    "\n",
    "trace_data_3 = prepare_trace_data(trace_list_3)"
   ]
  },
  {
   "cell_type": "code",
   "execution_count": 6,
   "id": "f5ffe21c",
   "metadata": {},
   "outputs": [
    {
     "data": {
      "text/plain": [
       "0.570487877880874"
      ]
     },
     "execution_count": 6,
     "metadata": {},
     "output_type": "execute_result"
    }
   ],
   "source": [
    "analyze_preemption_probability(trace_data_3, window_size=36)"
   ]
  },
  {
   "cell_type": "code",
   "execution_count": 10,
   "id": "f0ecf227",
   "metadata": {},
   "outputs": [],
   "source": [
    "trace_list_4 = {\n",
    "    \"region1\": {\n",
    "        \"zone1\": \"/root/ElasticCDC/conf/traces/preemption/1-node/aws-04-22-2023/us-east-1c_v100_1.json\",\n",
    "        \"zone2\": \"/root/ElasticCDC/conf/traces/preemption/1-node/aws-04-22-2023/us-east-1f_v100_1.json\"\n",
    "    },\n",
    "    \"region2\": {\n",
    "        \"zone1\": \"/root/ElasticCDC/conf/traces/preemption/1-node/aws-04-22-2023/us-west-2b_v100_1.json\",\n",
    "        \"zone2\": \"/root/ElasticCDC/conf/traces/preemption/1-node/aws-04-22-2023/us-west-2c_v100_1.json\"\n",
    "    }\n",
    "}\n",
    "\n",
    "trace_data_4 = prepare_trace_data(trace_list_4)"
   ]
  },
  {
   "cell_type": "code",
   "execution_count": 11,
   "id": "446bb7e7",
   "metadata": {},
   "outputs": [
    {
     "data": {
      "text/plain": [
       "0.4636135157777157"
      ]
     },
     "execution_count": 11,
     "metadata": {},
     "output_type": "execute_result"
    }
   ],
   "source": [
    "analyze_preemption_probability(trace_data_4, window_size=338)"
   ]
  }
 ],
 "metadata": {
  "kernelspec": {
   "display_name": "py39",
   "language": "python",
   "name": "python3"
  },
  "language_info": {
   "codemirror_mode": {
    "name": "ipython",
    "version": 3
   },
   "file_extension": ".py",
   "mimetype": "text/x-python",
   "name": "python",
   "nbconvert_exporter": "python",
   "pygments_lexer": "ipython3",
   "version": "3.9.23"
  }
 },
 "nbformat": 4,
 "nbformat_minor": 5
}
